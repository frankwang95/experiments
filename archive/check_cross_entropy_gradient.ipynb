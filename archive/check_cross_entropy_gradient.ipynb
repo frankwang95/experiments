{
 "cells": [
  {
   "cell_type": "code",
   "execution_count": 1,
   "metadata": {},
   "outputs": [],
   "source": [
    "import tensorflow as tf\n",
    "import numpy as np"
   ]
  },
  {
   "cell_type": "markdown",
   "metadata": {},
   "source": [
    "# Problem Statement"
   ]
  },
  {
   "cell_type": "markdown",
   "metadata": {
    "collapsed": true
   },
   "source": [
    "This notebook computationally verifies an analytically computed gradient for a cross-entropy loss function."
   ]
  },
  {
   "cell_type": "markdown",
   "metadata": {},
   "source": [
    "# Model"
   ]
  },
  {
   "cell_type": "code",
   "execution_count": 2,
   "metadata": {},
   "outputs": [],
   "source": [
    "inp = tf.placeholder(tf.float32, shape=(1, 4))\n",
    "train_labels_ph = tf.placeholder(tf.float32, shape=(1, 2))\n",
    "\n",
    "W = tf.Variable(tf.random_uniform((2, 4), 0, 1))\n",
    "\n",
    "out = tf.transpose(tf.matmul(W, inp, transpose_b=True))\n",
    "loss = tf.reduce_sum(train_labels_ph * tf.log(out))"
   ]
  },
  {
   "cell_type": "markdown",
   "metadata": {},
   "source": [
    "# Single Point Random Trainset"
   ]
  },
  {
   "cell_type": "code",
   "execution_count": 3,
   "metadata": {},
   "outputs": [],
   "source": [
    "train_in = np.array([[0, 1, 0, 1]])\n",
    "train_labels = np.array([[0, 1]])"
   ]
  },
  {
   "cell_type": "markdown",
   "metadata": {},
   "source": [
    "# Check Empirical vs. Analytical Gradients"
   ]
  },
  {
   "cell_type": "code",
   "execution_count": 4,
   "metadata": {},
   "outputs": [],
   "source": [
    "session = tf.Session()\n",
    "session.run(tf.global_variables_initializer())"
   ]
  },
  {
   "cell_type": "code",
   "execution_count": 5,
   "metadata": {
    "scrolled": true
   },
   "outputs": [
    {
     "data": {
      "text/plain": [
       "[array([[0.       , 0.       , 0.       , 0.       ],\n",
       "        [0.       , 1.0339515, 0.       , 1.0339515]], dtype=float32)]"
      ]
     },
     "execution_count": 5,
     "metadata": {},
     "output_type": "execute_result"
    }
   ],
   "source": [
    "# Empirically Computed Gradient\n",
    "session.run(tf.gradients(loss, W), feed_dict={inp: train_in, train_labels_ph: train_labels})"
   ]
  },
  {
   "cell_type": "code",
   "execution_count": 6,
   "metadata": {},
   "outputs": [
    {
     "data": {
      "text/plain": [
       "array([[0.       , 0.       , 0.       , 1.0339515, 0.       , 0.       ,\n",
       "        0.       , 1.0339515]], dtype=float32)"
      ]
     },
     "execution_count": 6,
     "metadata": {},
     "output_type": "execute_result"
    }
   ],
   "source": [
    "# Analytically Computed Gradient\n",
    "DW = tf.concat([tf.diag([inp[0, j] for _ in range(2)]) for j in range(4)], axis=1)\n",
    "Dgamma = train_labels_ph / out\n",
    "Dsigma = tf.matmul(Dgamma, DW)\n",
    "\n",
    "session.run(\n",
    "    Dsigma,\n",
    "    feed_dict={inp: train_in, train_labels_ph: train_labels}\n",
    ")"
   ]
  }
 ],
 "metadata": {
  "kernelspec": {
   "display_name": "Python [conda env:experiments_archive] *",
   "language": "python",
   "name": "conda-env-experiments_archive-py"
  },
  "language_info": {
   "codemirror_mode": {
    "name": "ipython",
    "version": 3
   },
   "file_extension": ".py",
   "mimetype": "text/x-python",
   "name": "python",
   "nbconvert_exporter": "python",
   "pygments_lexer": "ipython3",
   "version": "3.7.6"
  }
 },
 "nbformat": 4,
 "nbformat_minor": 2
}
