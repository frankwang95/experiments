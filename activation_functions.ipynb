{
 "cells": [
  {
   "cell_type": "code",
   "execution_count": 1,
   "metadata": {},
   "outputs": [
    {
     "name": "stderr",
     "output_type": "stream",
     "text": [
      "/Users/frankwang/anaconda3/envs/learning_lib/lib/python3.6/importlib/_bootstrap.py:219: RuntimeWarning: compiletime version 3.5 of module 'tensorflow.python.framework.fast_tensor_util' does not match runtime version 3.6\n",
      "  return f(*args, **kwds)\n",
      "/Users/frankwang/anaconda3/envs/learning_lib/lib/python3.6/site-packages/h5py/__init__.py:34: FutureWarning: Conversion of the second argument of issubdtype from `float` to `np.floating` is deprecated. In future, it will be treated as `np.float64 == np.dtype(float).type`.\n",
      "  from ._conv import register_converters as _register_converters\n"
     ]
    }
   ],
   "source": [
    "from learning_lib.nn.ffnn import FFNN\n",
    "\n",
    "import numpy as np\n",
    "import pandas as pd\n",
    "import tensorflow as tf\n",
    "from tensorflow.examples.tutorials.mnist import input_data\n",
    "\n",
    "import plotly.offline as plotly\n",
    "import plotly.graph_objs as go\n",
    "\n",
    "from PIL import Image"
   ]
  },
  {
   "cell_type": "code",
   "execution_count": 2,
   "metadata": {},
   "outputs": [
    {
     "data": {
      "text/html": [
       "<script>requirejs.config({paths: { 'plotly': ['https://cdn.plot.ly/plotly-latest.min']},});if(!window.Plotly) {{require(['plotly'],function(plotly) {window.Plotly=plotly;});}}</script>"
      ],
      "text/vnd.plotly.v1+html": [
       "<script>requirejs.config({paths: { 'plotly': ['https://cdn.plot.ly/plotly-latest.min']},});if(!window.Plotly) {{require(['plotly'],function(plotly) {window.Plotly=plotly;});}}</script>"
      ]
     },
     "metadata": {},
     "output_type": "display_data"
    }
   ],
   "source": [
    "plotly.init_notebook_mode(connected=True)"
   ]
  },
  {
   "cell_type": "markdown",
   "metadata": {},
   "source": [
    "# Data"
   ]
  },
  {
   "cell_type": "code",
   "execution_count": 3,
   "metadata": {},
   "outputs": [
    {
     "name": "stdout",
     "output_type": "stream",
     "text": [
      "Extracting MNIST_data/train-images-idx3-ubyte.gz\n",
      "Extracting MNIST_data/train-labels-idx1-ubyte.gz\n",
      "Extracting MNIST_data/t10k-images-idx3-ubyte.gz\n",
      "Extracting MNIST_data/t10k-labels-idx1-ubyte.gz\n"
     ]
    }
   ],
   "source": [
    "dataset = input_data.read_data_sets(\"MNIST_data/\", one_hot=True)\n",
    "\n",
    "train_data = dataset.train.next_batch(1000000)\n",
    "train_in = train_data[0] - train_data[0].mean()\n",
    "train_labels = train_data[1]\n",
    "\n",
    "test_data = dataset.test.next_batch(1000000)"
   ]
  },
  {
   "cell_type": "markdown",
   "metadata": {
    "heading_collapsed": true
   },
   "source": [
    "# MSE Loss"
   ]
  },
  {
   "cell_type": "raw",
   "metadata": {
    "hidden": true
   },
   "source": [
    "Statistics:\n",
    "    80.05% Train Error\n",
    "    81400 Epochs w/ batch size 50"
   ]
  },
  {
   "cell_type": "code",
   "execution_count": null,
   "metadata": {
    "collapsed": true,
    "hidden": true
   },
   "outputs": [],
   "source": [
    "network = FFNN([784, 2048, 2048, 10])"
   ]
  },
  {
   "cell_type": "code",
   "execution_count": 109,
   "metadata": {
    "hidden": true,
    "scrolled": false
   },
   "outputs": [
    {
     "name": "stdout",
     "output_type": "stream",
     "text": [
      "Reached epoch 79200\n",
      "Reached epoch 79400\n",
      "Reached epoch 79600\n",
      "Reached epoch 79800\n",
      "Reached epoch 80000\n",
      "Reached epoch 80200\n",
      "Reached epoch 80400\n",
      "Reached epoch 80600\n",
      "Reached epoch 80800\n",
      "Reached epoch 81000\n",
      "Reached epoch 81200\n",
      "CPU times: user 32min 1s, sys: 6min 17s, total: 38min 19s\n",
      "Wall time: 13min 36s\n"
     ]
    }
   ],
   "source": [
    "%%time\n",
    "network.train(train_in, train_labels, epochs=81400, batch_size=50, lc_interval=200)"
   ]
  },
  {
   "cell_type": "code",
   "execution_count": 110,
   "metadata": {
    "collapsed": true,
    "hidden": true
   },
   "outputs": [],
   "source": [
    "train_pred = network.evaluate(train_in)"
   ]
  },
  {
   "cell_type": "code",
   "execution_count": 111,
   "metadata": {
    "hidden": true
   },
   "outputs": [
    {
     "data": {
      "text/plain": [
       "0.80050909090909095"
      ]
     },
     "execution_count": 111,
     "metadata": {},
     "output_type": "execute_result"
    }
   ],
   "source": [
    "np.sum(train_pred.argmax(axis=1) == train_labels.argmax(axis=1)) / train_in.shape[0]"
   ]
  },
  {
   "cell_type": "code",
   "execution_count": null,
   "metadata": {
    "collapsed": true,
    "hidden": true
   },
   "outputs": [],
   "source": [
    "lc = pd.DataFrame(network.learning_curve)\n",
    "plotly.iplot([go.Scatter(\n",
    "    x=lc[0],\n",
    "    y=lc[1],\n",
    "    mode='lines'\n",
    ")])"
   ]
  },
  {
   "cell_type": "markdown",
   "metadata": {
    "collapsed": true
   },
   "source": [
    "# Cross Entropy Loss"
   ]
  },
  {
   "cell_type": "code",
   "execution_count": 29,
   "metadata": {
    "collapsed": true
   },
   "outputs": [],
   "source": [
    "lc = [\n",
    "    784,\n",
    "    {\n",
    "        'n_nodes': 2048, 'activation': tf.nn.tanh, 'init_weight_lower': 0, 'init_weight_upper': 1,\n",
    "        'init_bias_lower': 0, 'init_bias_upper': 1\n",
    "    },\n",
    "    {\n",
    "        'n_nodes': 10, 'activation': tf.identity, 'init_weight_lower': 0, 'init_weight_upper': 1,\n",
    "        'init_bias_lower': 0, 'init_bias_upper': 1\n",
    "    }\n",
    "]"
   ]
  },
  {
   "cell_type": "code",
   "execution_count": 30,
   "metadata": {
    "collapsed": true
   },
   "outputs": [],
   "source": [
    "network = FFNN(lc, post_proc_function=tf.nn.softmax)"
   ]
  },
  {
   "cell_type": "code",
   "execution_count": 31,
   "metadata": {
    "collapsed": true
   },
   "outputs": [],
   "source": [
    "def cross_entropy_with_softmax(model_output, true_output):\n",
    "    return tf.reduce_sum(tf.nn.softmax_cross_entropy_with_logits(labels=true_output, logits=model_output))"
   ]
  },
  {
   "cell_type": "code",
   "execution_count": 37,
   "metadata": {},
   "outputs": [
    {
     "name": "stdout",
     "output_type": "stream",
     "text": [
      "Reached epoch 1200\n",
      "Reached epoch 1400\n",
      "Reached epoch 1600\n",
      "Reached epoch 1800\n",
      "Reached epoch 2000\n",
      "CPU times: user 7min 5s, sys: 2min 33s, total: 9min 38s\n",
      "Wall time: 5min 34s\n"
     ]
    }
   ],
   "source": [
    "%%time\n",
    "network.train(\n",
    "    train_in,\n",
    "    train_labels,\n",
    "    epochs=1100,\n",
    "    batch_size=100,\n",
    "    report_interval=200,\n",
    "    loss_func=cross_entropy_with_softmax,\n",
    "    optimizer=tf.train.GradientDescentOptimizer(0.1)\n",
    ")"
   ]
  },
  {
   "cell_type": "code",
   "execution_count": 34,
   "metadata": {
    "collapsed": true
   },
   "outputs": [],
   "source": [
    "train_pred = network.evaluate(train_in)"
   ]
  },
  {
   "cell_type": "code",
   "execution_count": 35,
   "metadata": {},
   "outputs": [
    {
     "data": {
      "text/plain": [
       "0.8635272727272727"
      ]
     },
     "execution_count": 35,
     "metadata": {},
     "output_type": "execute_result"
    }
   ],
   "source": [
    "np.sum(train_pred.argmax(axis=1) == train_labels.argmax(axis=1)) / train_in.shape[0]"
   ]
  },
  {
   "cell_type": "code",
   "execution_count": 36,
   "metadata": {},
   "outputs": [
    {
     "data": {
      "application/vnd.plotly.v1+json": {
       "data": [
        {
         "mode": "lines",
         "type": "scatter",
         "x": [
          200,
          400,
          600,
          800,
          1000
         ],
         "y": [
          13445163,
          20578214,
          23041598,
          16836692,
          8500906
         ]
        }
       ],
       "layout": {}
      },
      "text/html": [
       "<div id=\"1a369531-f5fa-4e03-b5a3-1ad53db93770\" style=\"height: 525px; width: 100%;\" class=\"plotly-graph-div\"></div><script type=\"text/javascript\">require([\"plotly\"], function(Plotly) { window.PLOTLYENV=window.PLOTLYENV || {};window.PLOTLYENV.BASE_URL=\"https://plot.ly\";Plotly.newPlot(\"1a369531-f5fa-4e03-b5a3-1ad53db93770\", [{\"type\": \"scatter\", \"x\": [200, 400, 600, 800, 1000], \"y\": [13445163.0, 20578214.0, 23041598.0, 16836692.0, 8500906.0], \"mode\": \"lines\"}], {}, {\"showLink\": true, \"linkText\": \"Export to plot.ly\"})});</script>"
      ],
      "text/vnd.plotly.v1+html": [
       "<div id=\"1a369531-f5fa-4e03-b5a3-1ad53db93770\" style=\"height: 525px; width: 100%;\" class=\"plotly-graph-div\"></div><script type=\"text/javascript\">require([\"plotly\"], function(Plotly) { window.PLOTLYENV=window.PLOTLYENV || {};window.PLOTLYENV.BASE_URL=\"https://plot.ly\";Plotly.newPlot(\"1a369531-f5fa-4e03-b5a3-1ad53db93770\", [{\"type\": \"scatter\", \"x\": [200, 400, 600, 800, 1000], \"y\": [13445163.0, 20578214.0, 23041598.0, 16836692.0, 8500906.0], \"mode\": \"lines\"}], {}, {\"showLink\": true, \"linkText\": \"Export to plot.ly\"})});</script>"
      ]
     },
     "metadata": {},
     "output_type": "display_data"
    }
   ],
   "source": [
    "lc = pd.DataFrame(network.learning_curve)\n",
    "plotly.iplot([go.Scatter(\n",
    "    x=lc[0][1:],\n",
    "    y=lc[1][1:],\n",
    "    mode='lines'\n",
    ")])"
   ]
  },
  {
   "cell_type": "code",
   "execution_count": null,
   "metadata": {
    "collapsed": true
   },
   "outputs": [],
   "source": []
  }
 ],
 "metadata": {
  "kernelspec": {
   "display_name": "Python 3",
   "language": "python",
   "name": "python3"
  },
  "language_info": {
   "codemirror_mode": {
    "name": "ipython",
    "version": 3
   },
   "file_extension": ".py",
   "mimetype": "text/x-python",
   "name": "python",
   "nbconvert_exporter": "python",
   "pygments_lexer": "ipython3",
   "version": "3.6.3"
  }
 },
 "nbformat": 4,
 "nbformat_minor": 2
}
